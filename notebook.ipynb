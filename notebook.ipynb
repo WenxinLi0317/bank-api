{
 "cells": [
  {
   "cell_type": "markdown",
   "id": "6cf8ceee",
   "metadata": {},
   "source": [
    "### Test Your Code Here"
   ]
  },
  {
   "cell_type": "code",
   "execution_count": null,
   "id": "ed26b81d",
   "metadata": {
    "vscode": {
     "languageId": "python"
    }
   },
   "outputs": [],
   "source": [
    "from bank import Bank\n",
    "from user import BankUser"
   ]
  },
  {
   "cell_type": "code",
   "execution_count": null,
   "id": "99e6639a",
   "metadata": {
    "vscode": {
     "languageId": "python"
    }
   },
   "outputs": [],
   "source": [
    "bank_one = Bank(\"INSERT BANK NAME HERE\")\n"
   ]
  },
  {
   "cell_type": "code",
   "execution_count": 2,
   "id": "fa2c49f3",
   "metadata": {},
   "outputs": [],
   "source": []
  },
  {
   "cell_type": "code",
   "execution_count": null,
   "id": "86d2d83b",
   "metadata": {
    "vscode": {
     "languageId": "python"
    }
   },
   "outputs": [],
   "source": [
    "#should be an error, we dont want to be able to access the bank data\n",
    "bank_one.__bank_data"
   ]
  },
  {
   "cell_type": "code",
   "execution_count": null,
   "id": "f7ccf953",
   "metadata": {
    "vscode": {
     "languageId": "python"
    }
   },
   "outputs": [],
   "source": [
    "user_one = BankUser(\"USERNAME\", \"PASSWORD\", bank_one)"
   ]
  },
  {
   "cell_type": "code",
   "execution_count": null,
   "id": "877fe799",
   "metadata": {
    "vscode": {
     "languageId": "python"
    }
   },
   "outputs": [],
   "source": [
    "#should be an error, we dont want to be able to access users password\n",
    "user_one.__password"
   ]
  },
  {
   "cell_type": "code",
   "execution_count": null,
   "id": "707b5c76",
   "metadata": {
    "vscode": {
     "languageId": "python"
    }
   },
   "outputs": [],
   "source": [
    "#output should be zero\n",
    "user_one.check_balance()"
   ]
  },
  {
   "cell_type": "code",
   "execution_count": null,
   "id": "b940882a",
   "metadata": {
    "vscode": {
     "languageId": "python"
    }
   },
   "outputs": [],
   "source": [
    "user_one.deposit(150)\n",
    "\n",
    "user_one.withdraw(50)\n",
    "\n",
    "#output should be 100\n",
    "user_one.check_balance()"
   ]
  },
  {
   "cell_type": "code",
   "execution_count": null,
   "id": "fa1bf91b",
   "metadata": {
    "vscode": {
     "languageId": "python"
    }
   },
   "outputs": [],
   "source": [
    "#should not work since balance is only 50\n",
    "user_one.withdraw(2000)"
   ]
  }
 ],
 "metadata": {
  "kernelspec": {
   "display_name": ".NET (C#)",
   "language": "C#",
   "name": ".net-csharp"
  },
  "language_info": {
   "codemirror_mode": {
    "name": "ipython",
    "version": 3
   },
   "file_extension": ".py",
   "mimetype": "text/x-python",
   "name": "polyglot-notebook",
   "nbconvert_exporter": "python",
   "pygments_lexer": "ipython3",
   "version": "3.9.6"
  },
  "polyglot_notebook": {
   "kernelInfo": {
    "defaultKernelName": "csharp",
    "items": [
     {
      "aliases": [],
      "name": "csharp"
     }
    ]
   }
  }
 },
 "nbformat": 4,
 "nbformat_minor": 5
}
